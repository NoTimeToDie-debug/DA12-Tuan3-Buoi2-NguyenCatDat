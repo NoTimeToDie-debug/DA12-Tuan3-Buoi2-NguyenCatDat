{
 "cells": [
  {
   "cell_type": "markdown",
   "id": "3f8bce0b",
   "metadata": {},
   "source": [
    "### 1. Vui chơi với list. Viết mã để thực hiện:\n",
    "     1.1. Chỉ lấy các phần tử ở vị trí chẵn trong chuỗi (0,2,4,6…,20)\n",
    "     1.2. Chỉ lấy các phần tử ở vị trí lẻ trong chuỗi (1,3,5…,19)"
   ]
  },
  {
   "cell_type": "code",
   "execution_count": 91,
   "id": "5b1aac60",
   "metadata": {},
   "outputs": [
    {
     "name": "stdout",
     "output_type": "stream",
     "text": [
      "Các phần tử ở vị trí chẵn trong chuỗi [0, 4, 8, 12, 16, 20]\n",
      "Các phần tử ở vị trí lẻ trong chuỗi [3, 7, 11, 15, 19]\n"
     ]
    }
   ],
   "source": [
    "even_numbers = [0, 2, 4, 6, 8, 10, 12, 14, 16, 18, 20]\n",
    "odd_numbers = [1, 3, 5, 7, 9, 11, 13, 15, 17, 19]\n",
    "# 1.1. Chỉ lấy các phần tử ở vị trí chẵn trong chuỗi\n",
    "eve_seq = []\n",
    "for i in range(len(even_numbers)):\n",
    "    if i % 2 == 0:\n",
    "        eve_seq.append(even_numbers[i])\n",
    "print(\"Các phần tử ở vị trí chẵn trong chuỗi\", eve_seq)\n",
    "# 1.2. Chỉ lấy các phần tử ở vị trí lẻ trong chuỗi (1,3,5…,19)\n",
    "odd_seq = []\n",
    "for i in range(len(odd_numbers)):\n",
    "    if i % 2 != 0:\n",
    "        odd_seq.append(odd_numbers[i])\n",
    "print(\"Các phần tử ở vị trí lẻ trong chuỗi\", odd_seq)"
   ]
  },
  {
   "cell_type": "markdown",
   "id": "daeb7142",
   "metadata": {},
   "source": [
    "### 2. Thực hiện lại các bài tập trong bài trước và lưu kết quả vào file text"
   ]
  },
  {
   "cell_type": "code",
   "execution_count": 92,
   "id": "8f6776af",
   "metadata": {},
   "outputs": [],
   "source": [
    "with open ('danh_sach_chuoi.txt', 'w') as file:\n",
    "    file.write(\"even_seq = \" + str(eve_seq) + \"\\n\")\n",
    "    file.write(\"odd_seq = \" + str(odd_seq) + \"\\n\")"
   ]
  },
  {
   "cell_type": "markdown",
   "id": "541a8e07",
   "metadata": {},
   "source": [
    "### 3. Đọc file “supermarket_sales_vn.csv” và tính:\n",
    "    3.1. Tần số & Tần suất khách hàng mua ở Tp HCM, Hà Nội, Đà Nẵng\n",
    "    3.2. Tần số & Tần suất khách hàng Nam/Nữ\n",
    "    3.3. Mean, median của Tổng đơn và Rating"
   ]
  },
  {
   "cell_type": "code",
   "execution_count": 97,
   "id": "c1ee21e1",
   "metadata": {},
   "outputs": [
    {
     "name": "stdout",
     "output_type": "stream",
     "text": [
      "3.1. Tần số & Tần suất khách hàng mua ở Tp HCM, Hà Nội, Đà Nẵng:\n",
      " -Tần số 273 và tần suất 27.30% khách hàng mua ở Hà Nội\n",
      " -Tần số 517 và tần suất 51.70% khách hàng mua ở TP Hồ Chí Minh\n",
      " -Tần số 210 và tần suất 21.00% khách hàng mua ở Đà Nẵng\n",
      "3.2. Tần số & Tần suất khách hàng Nam/Nữ:\n",
      " -Tần số 463 và tần suất 46.30% khách hàng Nam\n",
      " -Tần số 537 và tần suất 53.70% khách hàng Nữ\n",
      "3.3. Mean, median của Tổng đơn và Rating\n",
      " -Mean: 322.97, median: 254.02 của Tổng đơn\n",
      " -Mean: 7.25, median: 7 của Rating\n"
     ]
    }
   ],
   "source": [
    "import csv\n",
    "\n",
    "with open('sale_data_vn.csv', 'r', encoding=\"utf-8\") as file:\n",
    "    ds_data = csv.reader(file)\n",
    "    next(ds_data, None)\n",
    "    ds_city = []\n",
    "    ds_gt = []\n",
    "    ds_tong = []\n",
    "    ds_rating = []\n",
    "    for row in ds_data:\n",
    "        ds_city.append(row[2])\n",
    "        ds_gt.append(row[4])\n",
    "        ds_tong.append(float(row[10]))\n",
    "        ds_rating.append(int(row[-1]))\n",
    "\n",
    "#3.1. Tần số & Tần suất khách hàng mua ở Tp HCM, Hà Nội, Đà Nẵng:\n",
    "count_HN = ds_city.count('Hà Nội')\n",
    "count_HCM = ds_city.count('TP HCM')\n",
    "count_ĐN = ds_city.count('Đà Nẵng')\n",
    "        \n",
    "pct_HN = count_HN * 100 / len(ds_city)\n",
    "pct_HCM = count_HCM * 100 / len(ds_city)\n",
    "pct_ĐN = count_ĐN * 100 / len(ds_city)\n",
    "\n",
    "print(\"3.1. Tần số & Tần suất khách hàng mua ở Tp HCM, Hà Nội, Đà Nẵng:\")\n",
    "print(f\" -Tần số {count_HN} và tần suất {pct_HN:.2f}% khách hàng mua ở Hà Nội\")\n",
    "print(f\" -Tần số {count_HCM} và tần suất {pct_HCM:.2f}% khách hàng mua ở TP Hồ Chí Minh\")\n",
    "print(f\" -Tần số {count_ĐN} và tần suất {pct_ĐN:.2f}% khách hàng mua ở Đà Nẵng\")\n",
    "\n",
    "#3.2. Tần số & Tần suất khách hàng Nam/Nữ\n",
    "count_nam = ds_gt.count(\"Nam\")\n",
    "count_nữ = ds_gt.count(\"Nữ\")\n",
    "        \n",
    "pct_nam = 100 * count_nam / len(ds_gt)\n",
    "pct_nữ = 100 * count_nữ / len(ds_gt)\n",
    "\n",
    "print(\"3.2. Tần số & Tần suất khách hàng Nam/Nữ:\")\n",
    "print(f\" -Tần số {count_nam} và tần suất {pct_nam:.2f}% khách hàng Nam\")\n",
    "print(f\" -Tần số {count_nữ} và tần suất {pct_nữ:.2f}% khách hàng Nữ\")\n",
    "\n",
    "#3.3. Mean, median của Tổng đơn và Rating\n",
    "#Tổng đơn\n",
    "mean_tong = sum(ds_tong) / len(ds_tong)\n",
    "median_tong = sorted(ds_tong)[len(ds_tong) // 2]\n",
    "#Rating\n",
    "mean_rating = sum(ds_rating) / len(ds_rating)\n",
    "median_rating = sorted(ds_rating)[len(ds_rating) // 2]\n",
    "\n",
    "print(\"3.3. Mean, median của Tổng đơn và Rating\")\n",
    "print(f\" -Mean: {mean_tong:.2f}, median: {median_tong} của Tổng đơn\")\n",
    "print(f\" -Mean: {mean_rating:.2f}, median: {median_rating} của Rating\")"
   ]
  }
 ],
 "metadata": {
  "kernelspec": {
   "display_name": "Python 3 (ipykernel)",
   "language": "python",
   "name": "python3"
  },
  "language_info": {
   "codemirror_mode": {
    "name": "ipython",
    "version": 3
   },
   "file_extension": ".py",
   "mimetype": "text/x-python",
   "name": "python",
   "nbconvert_exporter": "python",
   "pygments_lexer": "ipython3",
   "version": "3.11.5"
  }
 },
 "nbformat": 4,
 "nbformat_minor": 5
}

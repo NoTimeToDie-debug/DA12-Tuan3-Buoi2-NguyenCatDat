{
 "cells": [
  {
   "cell_type": "markdown",
   "id": "3f8bce0b",
   "metadata": {},
   "source": [
    "### 1. Vui chơi với list. Viết mã để thực hiện:\n",
    "     1.1. Chỉ lấy các phần tử ở vị trí chẵn trong chuỗi (0,2,4,6…,20)\n",
    "     1.2. Chỉ lấy các phần tử ở vị trí lẻ trong chuỗi (1,3,5…,19)"
   ]
  },
  {
   "cell_type": "code",
   "execution_count": 17,
   "id": "5b1aac60",
   "metadata": {},
   "outputs": [
    {
     "name": "stdout",
     "output_type": "stream",
     "text": [
      "Các phần tử ở vị trí chẵn trong chuỗi [0, 4, 8, 12, 16, 20]\n",
      "Các phần tử ở vị trí lẻ trong chuỗi [3, 7, 11, 15, 19]\n"
     ]
    }
   ],
   "source": [
    "even_numbers = [0, 2, 4, 6, 8, 10, 12, 14, 16, 18, 20]\n",
    "odd_numbers = [1, 3, 5, 7, 9, 11, 13, 15, 17, 19]\n",
    "# 1.1. Chỉ lấy các phần tử ở vị trí chẵn trong chuỗi\n",
    "eve_seq = []\n",
    "for i in range(len(even_numbers)):\n",
    "    if i % 2 == 0:\n",
    "        eve_seq.append(even_numbers[i])\n",
    "print(\"Các phần tử ở vị trí chẵn trong chuỗi\", eve_seq)\n",
    "# 1.2. Chỉ lấy các phần tử ở vị trí lẻ trong chuỗi (1,3,5…,19)\n",
    "odd_seq = []\n",
    "for i in range(len(odd_numbers)):\n",
    "    if i % 2 != 0:\n",
    "        odd_seq.append(odd_numbers[i])\n",
    "print(\"Các phần tử ở vị trí lẻ trong chuỗi\", odd_seq)"
   ]
  },
  {
   "cell_type": "markdown",
   "id": "daeb7142",
   "metadata": {},
   "source": [
    "### 2. Thực hiện lại các bài tập trong bài trước và lưu kết quả vào file text"
   ]
  },
  {
   "cell_type": "code",
   "execution_count": 32,
   "id": "8f6776af",
   "metadata": {},
   "outputs": [],
   "source": [
    "with open ('danh_sach_chuoi.txt', 'w') as file:\n",
    "    file.write(\"even_seq = \" + str(eve_seq) + \"\\n\")\n",
    "    file.write(\"odd_seq = \" + str(odd_seq) + \"\\n\")"
   ]
  }
 ],
 "metadata": {
  "kernelspec": {
   "display_name": "Python 3 (ipykernel)",
   "language": "python",
   "name": "python3"
  },
  "language_info": {
   "codemirror_mode": {
    "name": "ipython",
    "version": 3
   },
   "file_extension": ".py",
   "mimetype": "text/x-python",
   "name": "python",
   "nbconvert_exporter": "python",
   "pygments_lexer": "ipython3",
   "version": "3.11.5"
  }
 },
 "nbformat": 4,
 "nbformat_minor": 5
}
